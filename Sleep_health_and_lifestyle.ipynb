{
  "nbformat": 4,
  "nbformat_minor": 0,
  "metadata": {
    "colab": {
      "provenance": []
    },
    "kernelspec": {
      "name": "python3",
      "display_name": "Python 3"
    },
    "language_info": {
      "name": "python"
    }
  },
  "cells": [
    {
      "cell_type": "code",
      "execution_count": null,
      "metadata": {
        "id": "ZiQJZztifapN"
      },
      "outputs": [],
      "source": [
        "import pandas as pd\n",
        "# import matplotlib.pyplot as plt\n",
        "# import seaborn as sns"
      ]
    },
    {
      "cell_type": "code",
      "source": [
        "# from google.colab import drive\n",
        "# drive.mount('/content/drive')\n",
        "# df = pd.read_csv('/content/drive/MyDrive/Projects/Sleep health and lifestyle/Sleep_health_and_lifestyle_dataset.csv')\n",
        "df = pd.read_csv(r'https://raw.githubusercontent.com/aminur-sarker6232/Sleep-health-and-lifestyle/refs/heads/main/Sleep_health_and_lifestyle_dataset.csv')"
      ],
      "metadata": {
        "id": "5s3qmqkMfsxm"
      },
      "execution_count": null,
      "outputs": []
    },
    {
      "cell_type": "code",
      "source": [
        "df.head()"
      ],
      "metadata": {
        "id": "HugUDDd4ic6J"
      },
      "execution_count": null,
      "outputs": []
    },
    {
      "cell_type": "code",
      "source": [
        "df.info()"
      ],
      "metadata": {
        "id": "iamWIRWTo4vY"
      },
      "execution_count": null,
      "outputs": []
    },
    {
      "cell_type": "code",
      "source": [
        "df=df.drop([\"Person ID\"],axis=1)\n",
        "df"
      ],
      "metadata": {
        "id": "SBBBVudw7UUw"
      },
      "execution_count": null,
      "outputs": []
    },
    {
      "cell_type": "code",
      "source": [
        "df.describe()"
      ],
      "metadata": {
        "id": "17MOXRlMpEk2"
      },
      "execution_count": null,
      "outputs": []
    },
    {
      "cell_type": "code",
      "source": [
        "df.isnull().sum()"
      ],
      "metadata": {
        "id": "Nvzvp1k8ieU-"
      },
      "execution_count": null,
      "outputs": []
    },
    {
      "cell_type": "code",
      "source": [
        "df['Sleep Disorder'].value_counts()"
      ],
      "metadata": {
        "id": "PoVGyqKNieXh"
      },
      "execution_count": null,
      "outputs": []
    },
    {
      "cell_type": "code",
      "source": [
        "sns.countplot(x=\"Sleep Disorder\",data=df)"
      ],
      "metadata": {
        "id": "-R3N9-yp8XwY"
      },
      "execution_count": null,
      "outputs": []
    },
    {
      "cell_type": "code",
      "source": [
        "from sklearn.preprocessing import LabelEncoder\n",
        "encoded_data = df.copy()\n",
        "\n",
        "label_encoder = LabelEncoder()\n",
        "encoded_data['Gender'] = label_encoder.fit_transform(encoded_data['Gender'])\n",
        "encoded_data['Sleep Disorder'] = label_encoder.fit_transform(encoded_data['Sleep Disorder'])\n",
        "\n",
        "encoded_data = pd.get_dummies(encoded_data, columns=['Occupation', 'BMI Category'], drop_first=True)\n",
        "\n",
        "encoded_data[['Systolic BP', 'Diastolic BP']] = encoded_data['Blood Pressure'].str.split('/', expand=True).astype(float)\n",
        "encoded_data.drop(columns=['Blood Pressure'], inplace=True)\n",
        "\n",
        "encoded_data.head()\n"
      ],
      "metadata": {
        "id": "NEs8dw02ieaa"
      },
      "execution_count": null,
      "outputs": []
    },
    {
      "cell_type": "code",
      "source": [
        "encoded_data['Sleep Disorder'].value_counts()"
      ],
      "metadata": {
        "id": "3ELr1Y_r8X-n"
      },
      "execution_count": null,
      "outputs": []
    },
    {
      "cell_type": "code",
      "source": [
        "sns.countplot(x=\"Sleep Disorder\",data=encoded_data)"
      ],
      "metadata": {
        "id": "P_iNhbbu8_uM"
      },
      "execution_count": null,
      "outputs": []
    },
    {
      "cell_type": "code",
      "source": [
        "encoded_data.hist(bins=31,figsize=(20,20))\n",
        "plt.show()"
      ],
      "metadata": {
        "id": "IyhBH-tL9OH5"
      },
      "execution_count": null,
      "outputs": []
    },
    {
      "cell_type": "code",
      "source": [
        "X = encoded_data.drop('Sleep Disorder', axis=1)\n",
        "y = encoded_data['Sleep Disorder']\n",
        "\n",
        "\n",
        "from sklearn.model_selection import train_test_split\n",
        "from sklearn.preprocessing import StandardScaler\n",
        "\n",
        "X_train, X_test, y_train, y_test = train_test_split(X , y, test_size=0.2, random_state=42)\n",
        "\n",
        "scaler = StandardScaler()\n",
        "X_train = scaler.fit_transform(X_train)\n",
        "X_test = scaler.transform(X_test)"
      ],
      "metadata": {
        "id": "qVCvNPzfoaBV"
      },
      "execution_count": null,
      "outputs": []
    },
    {
      "cell_type": "code",
      "source": [
        "from sklearn.tree import DecisionTreeClassifier\n",
        "\n",
        "# Train a Decision Tree model\n",
        "model = DecisionTreeClassifier(random_state=42)\n",
        "model.fit(X_train, y_train)\n"
      ],
      "metadata": {
        "id": "c0AROSHHiedu"
      },
      "execution_count": null,
      "outputs": []
    },
    {
      "cell_type": "code",
      "source": [
        "from sklearn.metrics import classification_report\n",
        "print(classification_report(model.predict(X_test),y_test))"
      ],
      "metadata": {
        "id": "sKBE1NqqHPJs"
      },
      "execution_count": null,
      "outputs": []
    }
  ]
}